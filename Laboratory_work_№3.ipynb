{
  "nbformat": 4,
  "nbformat_minor": 0,
  "metadata": {
    "colab": {
      "name": "Laboratory work №3.ipynb",
      "provenance": [],
      "authorship_tag": "ABX9TyMDOD0kTW1GNM+v/IHiFOJh",
      "include_colab_link": true
    },
    "kernelspec": {
      "name": "python3",
      "display_name": "Python 3"
    },
    "language_info": {
      "name": "python"
    }
  },
  "cells": [
    {
      "cell_type": "markdown",
      "metadata": {
        "id": "view-in-github",
        "colab_type": "text"
      },
      "source": [
        "<a href=\"https://colab.research.google.com/github/billel1998/Binary-Linear-search/blob/main/Laboratory_work_%E2%84%963.ipynb\" target=\"_parent\"><img src=\"https://colab.research.google.com/assets/colab-badge.svg\" alt=\"Open In Colab\"/></a>"
      ]
    },
    {
      "cell_type": "code",
      "execution_count": 13,
      "metadata": {
        "colab": {
          "base_uri": "https://localhost:8080/"
        },
        "id": "6mytJoIbd_30",
        "outputId": "6f754429-e87d-41a2-b429-1217ddb50a90"
      },
      "outputs": [
        {
          "output_type": "stream",
          "name": "stdout",
          "text": [
            "(60000, 28, 28)\n",
            "(10000, 28, 28)\n",
            "(28, 28)\n",
            "(60000,)\n",
            "(60000, 10)\n",
            "Epoch 1/3\n",
            "1313/1313 [==============================] - 48s 36ms/step - loss: 0.0506 - accuracy: 0.9233 - val_loss: 0.0178 - val_accuracy: 0.9776\n",
            "Epoch 2/3\n",
            "1313/1313 [==============================] - 48s 36ms/step - loss: 0.0152 - accuracy: 0.9813 - val_loss: 0.0136 - val_accuracy: 0.9837\n",
            "Epoch 3/3\n",
            "1313/1313 [==============================] - 47s 36ms/step - loss: 0.0113 - accuracy: 0.9861 - val_loss: 0.0114 - val_accuracy: 0.9854\n",
            "[7 2 1 0 4]\n"
          ]
        }
      ],
      "source": [
        "from tensorflow.keras.utils import to_categorical\n",
        "from keras.datasets import mnist\n",
        "from keras.models import Sequential\n",
        "from keras.layers import Conv2D, Flatten, Dense, MaxPooling2D\n",
        "import numpy as np\n",
        "(X_train, y_train), (X_test, y_test) = mnist.load_data()\n",
        "print(X_train.shape)\n",
        "print(X_test.shape)      \n",
        "print(X_train[0].shape)\n",
        "X_train = X_train.reshape(60000, 28,28,1)\n",
        "X_test  = X_test.reshape(10000, 28, 28,1)\n",
        "X_train = X_train / 255\n",
        "X_test = X_test / 255\n",
        "print(y_train.shape)\n",
        "y_train = to_categorical(y_train)\n",
        "y_test  = to_categorical(y_test)\n",
        "print(y_train.shape)\n",
        "model = Sequential()\n",
        "model.add(Conv2D(64, kernel_size=3, activation='relu', input_shape=(28, 28, 1)))\n",
        "model.add(MaxPooling2D())                             \n",
        "model.add(Conv2D(32, kernel_size=3, activation='relu'))\n",
        "model.add(MaxPooling2D())\n",
        "model.add(Conv2D(32, kernel_size=3, activation='relu'))\n",
        "model.add(Flatten())\n",
        "model.add(Dense(10, activation='softmax'))\n",
        "model.compile(loss=\"binary_crossentropy\", optimizer=\"adam\", metrics=['accuracy'])\n",
        "model.fit(X_train, y_train, batch_size=32, epochs=3, validation_split=0.3)\n",
        "arrAnswers = model.predict(X_test[:5])\n",
        "arrAnsIndeces = np.argmax(arrAnswers, axis=1)        \n",
        "print(arrAnsIndeces)\n"
      ]
    }
  ]
}